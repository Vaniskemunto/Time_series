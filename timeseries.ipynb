version https://git-lfs.github.com/spec/v1
oid sha256:0c29051f355bf8876486d462b3e461348bb47498ef38e2a11ae8317d32d13b02
size 1238578
