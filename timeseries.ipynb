version https://git-lfs.github.com/spec/v1
oid sha256:6311da158341bb24ed8f19a33cf2b6bbf19770a0b568ec7a4673cadcf3c87bca
size 19827
