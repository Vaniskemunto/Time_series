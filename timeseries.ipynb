version https://git-lfs.github.com/spec/v1
oid sha256:d4b0fb6f37f513338822d5233286df6fea5daeb9d49a4eda459403c73acf2646
size 1267349
